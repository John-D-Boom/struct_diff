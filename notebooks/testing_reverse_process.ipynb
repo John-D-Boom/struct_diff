{
 "cells": [
  {
   "cell_type": "code",
   "execution_count": 1,
   "metadata": {},
   "outputs": [],
   "source": [
    "from esm.pretrained import ESM3_structure_encoder_v0, ESM3_structure_decoder_v0\n",
    "from esm.utils.structure.protein_chain import ProteinChain\n",
    "\n",
    "import torch\n",
    "import numpy as np\n",
    "\n",
    "import sys\n",
    "sys.path.append('/burg/home/jb5005')\n",
    "import os\n",
    "import pytorch_lightning as pl\n",
    "\n",
    "from huggingface_hub import login\n",
    "from struct_diff.data.flow import interpolate\n",
    "from struct_diff.data.datamodule import ContinuousStructTokenDataModule\n",
    "from struct_diff.model.models import TransformerModel\n",
    "from struct_diff.model.layers import TransformerLayer, positional_encoding, time_encoding\n",
    "\n",
    "device = torch.device(\"cuda\" if torch.cuda.is_available() else \"cpu\")"
   ]
  },
  {
   "cell_type": "code",
   "execution_count": 69,
   "metadata": {},
   "outputs": [
    {
     "name": "stderr",
     "output_type": "stream",
     "text": [
      "/pmglocal/jb5005/mambaforge/envs/struct_diff/lib/python3.12/site-packages/esm/pretrained.py:35: FutureWarning: You are using `torch.load` with `weights_only=False` (the current default value), which uses the default pickle module implicitly. It is possible to construct malicious pickle data which will execute arbitrary code during unpickling (See https://github.com/pytorch/pytorch/blob/main/SECURITY.md#untrusted-models for more details). In a future release, the default value for `weights_only` will be flipped to `True`. This limits the functions that could be executed during unpickling. Arbitrary objects will no longer be allowed to be loaded via this mode unless they are explicitly allowlisted by the user via `torch.serialization.add_safe_globals`. We recommend you start setting `weights_only=True` for any use case where you don't have full control of the loaded file. Please open an issue on GitHub for any issues related to this experimental feature.\n",
      "  state_dict = torch.load(\n"
     ]
    }
   ],
   "source": [
    "decoder = ESM3_structure_decoder_v0(device=device)\n",
    "encoder = ESM3_structure_encoder_v0(device=device)\n",
    "device = torch.device(\"cuda\" if torch.cuda.is_available() else \"cpu\")\n",
    "vocab = decoder.embed(torch.arange(0, 4100, device=device))"
   ]
  },
  {
   "cell_type": "code",
   "execution_count": 3,
   "metadata": {},
   "outputs": [],
   "source": [
    "#Full Decode \n",
    "def decode(struct_tokens):\n",
    "    #Add BOS and EOS\n",
    "    \n",
    "    BOS_token = torch.tensor([4098], device = device)\n",
    "    EOS_token = torch.tensor([4097], device = device)\n",
    "\n",
    "    prepped_tokens = torch.cat([BOS_token, struct_tokens, EOS_token]).unsqueeze(0)\n",
    "    output =  decoder.decode(prepped_tokens)\n",
    "    bb_pred = output['bb_pred'].squeeze()\n",
    "    bb_pred = bb_pred.cpu().detach().numpy()\n",
    "    temp_chain = ProteinChain.from_backbone_atom_coordinates(bb_pred)\n",
    "    return temp_chain\n"
   ]
  },
  {
   "cell_type": "code",
   "execution_count": 57,
   "metadata": {},
   "outputs": [],
   "source": [
    "def convert_continuous_to_discrete_token(x1):\n",
    "    \"\"\"\n",
    "    Maps backwards from the continuous token embedding to the discrete version\n",
    "    Computes the Euclidean distance between the continuous token and all discrete tokens, \n",
    "    then selects discrete with the smallest distance\n",
    "\n",
    "    args: x1 [BxLx1280]\n",
    "    \"\"\"\n",
    "    device = torch.device(\"cuda\" if torch.cuda.is_available() else \"cpu\")\n",
    "    decoder = ESM3_structure_decoder_v0(device=device)\n",
    "    vocab = decoder.embed(torch.arange(0, 4100, device=device))  # [4100, 1280]\n",
    "    \n",
    "    # Ensure vocab matches the last dimension of x1\n",
    "    if vocab.size(-1) != x1.size(-1):\n",
    "        raise ValueError(\"Mismatch in embedding dimensions between x1 and vocab.\")\n",
    "    \n",
    "    # Compute distances [B, L, 4100]\n",
    "    distances = torch.cdist(x1, vocab, p=2)\n",
    "    \n",
    "    # Get the closest discrete tokens\n",
    "    closest_indices = distances.argmin(dim=-1)  # [B, L]\n",
    "    min_distances = torch.gather(distances, -1, closest_indices.unsqueeze(-1)).squeeze(-1)  # [B, L]\n",
    "\n",
    "    distances_for_second_min = distances.clone()\n",
    "    distances_for_second_min.scatter_(-1, closest_indices.unsqueeze(-1), float('inf'))\n",
    "    \n",
    "    # Find the second closest token\n",
    "    second_closest_indices = distances_for_second_min.argmin(dim=-1) # [B, L]\n",
    "    second_min_distances = torch.gather(distances, -1, second_closest_indices.unsqueeze(-1)).squeeze(-1) # [B, L]\n",
    "\n",
    "    \n",
    "    return closest_indices.squeeze(), min_distances, second_min_distances"
   ]
  },
  {
   "cell_type": "code",
   "execution_count": 58,
   "metadata": {},
   "outputs": [
    {
     "name": "stderr",
     "output_type": "stream",
     "text": [
      "/tmp/ipykernel_4107437/1077339200.py:2: FutureWarning: You are using `torch.load` with `weights_only=False` (the current default value), which uses the default pickle module implicitly. It is possible to construct malicious pickle data which will execute arbitrary code during unpickling (See https://github.com/pytorch/pytorch/blob/main/SECURITY.md#untrusted-models for more details). In a future release, the default value for `weights_only` will be flipped to `True`. This limits the functions that could be executed during unpickling. Arbitrary objects will no longer be allowed to be loaded via this mode unless they are explicitly allowlisted by the user via `torch.serialization.add_safe_globals`. We recommend you start setting `weights_only=True` for any use case where you don't have full control of the loaded file. Please open an issue on GitHub for any issues related to this experimental feature.\n",
      "  checkpoint = torch.load(\"/pmglocal/jb5005/wandb_files/struct_diff_v0/50lsjiz6/checkpoints/copy.ckpt\")\n"
     ]
    }
   ],
   "source": [
    "model = TransformerModel()\n",
    "checkpoint = torch.load(\"/pmglocal/jb5005/wandb_files/struct_diff_v0/50lsjiz6/checkpoints/copy.ckpt\")\n",
    "model.load_state_dict(checkpoint['state_dict'])\n",
    "model = model.to(device)"
   ]
  },
  {
   "cell_type": "code",
   "execution_count": null,
   "metadata": {},
   "outputs": [],
   "source": [
    "def add_special_token_columns(tensor):\n",
    "    bos_col = torch.full((tensor.shape[0], 1), 4098, device=tensor.device, dtype=tensor.dtype)\n",
    "    eos_col = torch.full((tensor.shape[0], 1), 4097, device=tensor.device, dtype=tensor.dtype)\n",
    "    \n",
    "    return torch.cat([bos_col, tensor, eos_col], dim=1)"
   ]
  },
  {
   "cell_type": "code",
   "execution_count": 105,
   "metadata": {},
   "outputs": [
    {
     "name": "stderr",
     "output_type": "stream",
     "text": [
      "/pmglocal/jb5005/mambaforge/envs/struct_diff/lib/python3.12/site-packages/esm/pretrained.py:46: FutureWarning: You are using `torch.load` with `weights_only=False` (the current default value), which uses the default pickle module implicitly. It is possible to construct malicious pickle data which will execute arbitrary code during unpickling (See https://github.com/pytorch/pytorch/blob/main/SECURITY.md#untrusted-models for more details). In a future release, the default value for `weights_only` will be flipped to `True`. This limits the functions that could be executed during unpickling. Arbitrary objects will no longer be allowed to be loaded via this mode unless they are explicitly allowlisted by the user via `torch.serialization.add_safe_globals`. We recommend you start setting `weights_only=True` for any use case where you don't have full control of the loaded file. Please open an issue on GitHub for any issues related to this experimental feature.\n",
      "  state_dict = torch.load(\n"
     ]
    }
   ],
   "source": [
    "x_orig = 0.001* torch.randn([100,128,1280], device = device)\n",
    "x = x_orig\n",
    "num_steps = 100\n",
    "# model.load_from_checkpoint()\n",
    "model.eval()\n",
    "with torch.no_grad():\n",
    "    for i in range(num_steps):\n",
    "        t = i/num_steps\n",
    "\n",
    "        if i != 0:\n",
    "            #inject noise\n",
    "            noise = 0.001* torch.randn([100,128,1280], device = device)\n",
    "            x = t * x + (1-t) * noise\n",
    "        x += 1/num_steps * model(x, t)\n",
    "\n",
    "        if t<0.5:\n",
    "            # Convert continuous to discrete tokens\n",
    "            struct_tokens, distances, second_distances = convert_continuous_to_discrete_token(x)\n",
    "            # Ensure struct_tokens is 1D\n",
    "            struct_tokens = struct_tokens.squeeze()\n",
    "\n",
    "            # Create special tokens\n",
    "            BOS_token = torch.tensor([4098], device=device).unsqueeze(0)\n",
    "            EOS_token = torch.tensor([4097], device=device).unsqueeze(0)\n",
    "\n",
    "            # Concatenate tokens with correct dimensions\n",
    "            prepped_tokens = struct_tokens\n",
    "\n",
    "            # Decode the prepared tokens\n",
    "            x = decoder.embed(prepped_tokens)"
   ]
  },
  {
   "cell_type": "code",
   "execution_count": 81,
   "metadata": {},
   "outputs": [
    {
     "data": {
      "text/plain": [
       "tensor([[4098,  264, 3274,  ..., 3087,  330, 4097],\n",
       "        [4098, 3722,  824,  ..., 1249, 1450, 4097],\n",
       "        [4098, 1450, 2874,  ...,  137, 3961, 4097],\n",
       "        ...,\n",
       "        [4098,  264, 2056,  ..., 1476, 1184, 4097],\n",
       "        [4098, 2056,  588,  ..., 1450,  264, 4097],\n",
       "        [4098, 3657, 2048,  ..., 3040, 1450, 4097]], device='cuda:0')"
      ]
     },
     "execution_count": 81,
     "metadata": {},
     "output_type": "execute_result"
    }
   ],
   "source": [
    "def add_special_token_columns(tensor):\n",
    "    bos_col = torch.full((tensor.shape[0], 1), 4098, device=tensor.device, dtype=tensor.dtype)\n",
    "    eos_col = torch.full((tensor.shape[0], 1), 4097, device=tensor.device, dtype=tensor.dtype)\n",
    "    \n",
    "    return torch.cat([bos_col, tensor, eos_col], dim=1)\n",
    "\n",
    "add_special_token_columns(struct_tokens)"
   ]
  },
  {
   "cell_type": "code",
   "execution_count": 85,
   "metadata": {},
   "outputs": [
    {
     "data": {
      "text/plain": [
       "tensor([3657, 3814, 1858, 2048, 1450, 2048,  137, 3657, 3961, 2074, 1957,  824,\n",
       "        1348, 3423, 3047, 1722,  987, 1265, 4052,   25, 4058, 1499, 4058, 2082,\n",
       "        2048, 3961, 1968, 2874, 2074, 1566,  824,  123, 1898,  169, 3954, 1455,\n",
       "        1947, 2542, 2874,  987,  321,  137, 2018, 2018, 1898,  987, 1898, 2056,\n",
       "        2056, 3423, 1858,  987, 3553,  677, 1450, 3150, 2745,  123, 1138, 3961,\n",
       "        3566, 3160, 3087, 3654, 2048, 2048, 2018,  824,  509,  123, 2048,  264,\n",
       "        1898,  824, 1450, 2622, 1450,  677, 3647,  169,  987,  824, 1722,  123,\n",
       "        2082, 4052, 2048, 1476, 3397,  264,  137,  824,  137, 3047, 1265, 1957,\n",
       "        3820,  578,  824, 3533, 3653, 1483, 2003,  578, 2048, 3533,  123, 1348,\n",
       "        1265, 3722, 2082,  477, 3056, 2396, 3047, 2396,  509, 2048, 1722, 1476,\n",
       "        1265, 3423,  123, 2048, 1957, 2622, 3961, 1476], device='cuda:0')"
      ]
     },
     "execution_count": 85,
     "metadata": {},
     "output_type": "execute_result"
    }
   ],
   "source": [
    "struct_tokens[0]"
   ]
  },
  {
   "cell_type": "code",
   "execution_count": 106,
   "metadata": {},
   "outputs": [],
   "source": [
    "struct_tokens, distances, second_distances = convert_continuous_to_discrete_token(x)\n",
    "first_protein_chain = decode(struct_tokens[2])\n",
    "\n",
    "# print(torch.mean(distances))\n",
    "\n",
    "first_protein_chain.to_pdb(\"third_protein.pdb\")"
   ]
  },
  {
   "cell_type": "code",
   "execution_count": 61,
   "metadata": {},
   "outputs": [
    {
     "data": {
      "text/plain": [
       "<Axes: ylabel='Count'>"
      ]
     },
     "execution_count": 61,
     "metadata": {},
     "output_type": "execute_result"
    },
    {
     "data": {
      "image/png": "[encoded data removed]",
      "text/plain": [
       "<Figure size 640x480 with 1 Axes>"
      ]
     },
     "metadata": {},
     "output_type": "display_data"
    }
   ],
   "source": [
    "sns.histplot(distances[2].detach().cpu().numpy())"
   ]
  },
  {
   "cell_type": "code",
   "execution_count": 107,
   "metadata": {},
   "outputs": [
    {
     "data": {
      "text/plain": [
       "(0.0, 5.0)"
      ]
     },
     "execution_count": 107,
     "metadata": {},
     "output_type": "execute_result"
    },
    {
     "data": {
      "image/png": "[encoded data removed]",
      "text/plain": [
       "<Figure size 800x600 with 1 Axes>"
      ]
     },
     "metadata": {},
     "output_type": "display_data"
    }
   ],
   "source": [
    "import seaborn as sns\n",
    "import matplotlib.pyplot as plt\n",
    "plt.figure(figsize=(8, 6))\n",
    "sns.histplot(distances.flatten().cpu().detach().numpy())\n",
    "plt.xlabel(\"Euclidean Distance to 2nd Nearest Vocab Token\")\n",
    "plt.xlim(0,5)"
   ]
  },
  {
   "cell_type": "code",
   "execution_count": 10,
   "metadata": {},
   "outputs": [
    {
     "name": "stderr",
     "output_type": "stream",
     "text": [
      "/pmglocal/jb5005/mambaforge/envs/struct_diff/lib/python3.12/site-packages/esm/pretrained.py:46: FutureWarning: You are using `torch.load` with `weights_only=False` (the current default value), which uses the default pickle module implicitly. It is possible to construct malicious pickle data which will execute arbitrary code during unpickling (See https://github.com/pytorch/pytorch/blob/main/SECURITY.md#untrusted-models for more details). In a future release, the default value for `weights_only` will be flipped to `True`. This limits the functions that could be executed during unpickling. Arbitrary objects will no longer be allowed to be loaded via this mode unless they are explicitly allowlisted by the user via `torch.serialization.add_safe_globals`. We recommend you start setting `weights_only=True` for any use case where you don't have full control of the loaded file. Please open an issue on GitHub for any issues related to this experimental feature.\n",
      "  state_dict = torch.load(\n"
     ]
    },
    {
     "data": {
      "text/plain": [
       "(tensor([[2874, 3961, 2048,  ..., 2605, 2585, 3961],\n",
       "         [3961, 1450,  987,  ..., 3961, 1197, 2056],\n",
       "         [1184,  264, 3961,  ..., 2056, 2000, 2048],\n",
       "         ...,\n",
       "         [2048, 1197, 2082,  ..., 1156, 2048,  321],\n",
       "         [1476, 3961, 2056,  ..., 2000,  123, 3524],\n",
       "         [1898, 4099, 2056,  ..., 2048, 1442, 2048]], device='cuda:0'),\n",
       " tensor([[0.4328, 1.1549, 0.6283,  ..., 2.2155, 1.4120, 0.8643],\n",
       "         [1.5256, 1.2791, 0.9665,  ..., 0.9922, 0.7320, 0.9278],\n",
       "         [2.7966, 0.9910, 1.3428,  ..., 1.7935, 2.9162, 0.9362],\n",
       "         ...,\n",
       "         [1.0351, 0.7938, 0.3352,  ..., 2.3184, 0.9722, 1.2021],\n",
       "         [1.7755, 1.9993, 0.7860,  ..., 2.3077, 1.4263, 2.3758],\n",
       "         [2.5942, 2.5468, 1.1889,  ..., 0.8952, 2.7368, 1.1316]],\n",
       "        device='cuda:0', grad_fn=<SqueezeBackward1>))"
      ]
     },
     "execution_count": 10,
     "metadata": {},
     "output_type": "execute_result"
    }
   ],
   "source": [
    "convert_continuous_to_discrete_token(x)"
   ]
  },
  {
   "cell_type": "code",
   "execution_count": 12,
   "metadata": {},
   "outputs": [
    {
     "data": {
      "text/plain": [
       "tensor(3.5823, device='cuda:0', grad_fn=<SqrtBackward0>)"
      ]
     },
     "execution_count": 12,
     "metadata": {},
     "output_type": "execute_result"
    }
   ],
   "source": [
    "torch.sqrt(torch.sum((vocab[2083]-vocab[332])**2))"
   ]
  },
  {
   "cell_type": "code",
   "execution_count": 13,
   "metadata": {},
   "outputs": [
    {
     "data": {
      "text/plain": [
       "(tensor([[2874, 3961, 2048,  ..., 2605, 2585, 3961],\n",
       "         [3961, 1450,  987,  ..., 3961, 1197, 2056],\n",
       "         [1184,  264, 3961,  ..., 2056, 2000, 2048],\n",
       "         ...,\n",
       "         [2048, 1197, 2082,  ..., 1156, 2048,  321],\n",
       "         [1476, 3961, 2056,  ..., 2000,  123, 3524],\n",
       "         [1898, 4099, 2056,  ..., 2048, 1442, 2048]], device='cuda:0'),\n",
       " tensor([[0.4328, 1.1549, 0.6283,  ..., 2.2155, 1.4120, 0.8643],\n",
       "         [1.5256, 1.2791, 0.9665,  ..., 0.9922, 0.7320, 0.9278],\n",
       "         [2.7966, 0.9910, 1.3428,  ..., 1.7935, 2.9162, 0.9362],\n",
       "         ...,\n",
       "         [1.0351, 0.7938, 0.3352,  ..., 2.3184, 0.9722, 1.2021],\n",
       "         [1.7755, 1.9993, 0.7860,  ..., 2.3077, 1.4263, 2.3758],\n",
       "         [2.5942, 2.5468, 1.1889,  ..., 0.8952, 2.7368, 1.1316]],\n",
       "        device='cuda:0', grad_fn=<SqueezeBackward1>))"
      ]
     },
     "execution_count": 13,
     "metadata": {},
     "output_type": "execute_result"
    }
   ],
   "source": [
    "convert_continuous_to_discrete_token(x)"
   ]
  },
  {
   "cell_type": "code",
   "execution_count": 14,
   "metadata": {},
   "outputs": [
    {
     "name": "stdout",
     "output_type": "stream",
     "text": [
      "[0.0, 2.8284270763397217, 5.656854152679443, 2.8284270763397217, 0.0, 2.8284270763397217, 5.656854152679443, 2.8284270763397217, 0.0]\n"
     ]
    }
   ],
   "source": [
    "def compute_row_distances(tensor):\n",
    "    \"\"\"\n",
    "    Compute the Euclidean distance between each pair of rows in a 2D tensor.\n",
    "    \n",
    "    Args:\n",
    "        tensor (torch.Tensor): A 2D tensor of shape [N, D].\n",
    "        \n",
    "    Returns:\n",
    "        list: A list of distances between each pair of rows.\n",
    "    \"\"\"\n",
    "    # Compute pairwise Euclidean distances\n",
    "    distances = torch.cdist(tensor, tensor, p=2)  # Shape [N, N]\n",
    "    \n",
    "    # Flatten the distances into a list\n",
    "    distance_list = distances.view(-1).tolist()\n",
    "    \n",
    "    return distance_list\n",
    "\n",
    "# Example\n",
    "tensor = torch.tensor([[1, 2], [3, 4], [5, 6]], dtype=torch.float32)\n",
    "result = compute_row_distances(tensor)\n",
    "print(result)"
   ]
  },
  {
   "cell_type": "code",
   "execution_count": 15,
   "metadata": {},
   "outputs": [
    {
     "data": {
      "text/plain": [
       "tensor([[5.9402e-03, 3.4917e+00, 3.6334e+00,  ..., 3.4333e+00, 3.2553e+00,\n",
       "         2.5575e+00],\n",
       "        [3.4917e+00, 5.2589e-03, 3.5302e+00,  ..., 3.4466e+00, 3.3473e+00,\n",
       "         2.5226e+00],\n",
       "        [3.6334e+00, 3.5302e+00, 6.0199e-03,  ..., 3.6056e+00, 3.4842e+00,\n",
       "         2.6727e+00],\n",
       "        ...,\n",
       "        [3.4333e+00, 3.4466e+00, 3.6056e+00,  ..., 4.6834e-03, 3.1589e+00,\n",
       "         2.4357e+00],\n",
       "        [3.2553e+00, 3.3473e+00, 3.4842e+00,  ..., 3.1589e+00, 5.2589e-03,\n",
       "         2.2680e+00],\n",
       "        [2.5575e+00, 2.5226e+00, 2.6727e+00,  ..., 2.4357e+00, 2.2680e+00,\n",
       "         1.0066e-03]], device='cuda:0', grad_fn=<ViewBackward0>)"
      ]
     },
     "execution_count": 15,
     "metadata": {},
     "output_type": "execute_result"
    }
   ],
   "source": [
    "torch.cdist(vocab, vocab, p=2)"
   ]
  },
  {
   "cell_type": "code",
   "execution_count": 31,
   "metadata": {},
   "outputs": [],
   "source": [
    "dist_list = []\n",
    "all_vocab_distances = torch.cdist(vocab, vocab, p=2)\n",
    "offset = torch.eye(len(vocab)).to(device) * 1e6\n",
    "all_vocab_distances += offset\n",
    "for i in range(len(vocab)):\n",
    "    distance = torch.min(all_vocab_distances[i])\n",
    "    distance = torch.tensor([distance])\n",
    "    dist_list += distance.tolist()"
   ]
  },
  {
   "cell_type": "code",
   "execution_count": 32,
   "metadata": {},
   "outputs": [
    {
     "data": {
      "text/plain": [
       "4100"
      ]
     },
     "execution_count": 32,
     "metadata": {},
     "output_type": "execute_result"
    }
   ],
   "source": [
    "len(dist_list)"
   ]
  },
  {
   "cell_type": "code",
   "execution_count": 37,
   "metadata": {},
   "outputs": [
    {
     "data": {
      "text/plain": [
       "(0.0, 5.0)"
      ]
     },
     "execution_count": 37,
     "metadata": {},
     "output_type": "execute_result"
    },
    {
     "data": {
      "image/png": "[encoded data removed]",
      "text/plain": [
       "<Figure size 800x600 with 1 Axes>"
      ]
     },
     "metadata": {},
     "output_type": "display_data"
    }
   ],
   "source": [
    "import matplotlib.pyplot as plt\n",
    "import seaborn as sns\n",
    "plt.figure(figsize=(8, 6))\n",
    "sns.histplot(dist_list)\n",
    "plt.xlabel(\"Euclidean Distance\")\n",
    "plt.xlim(0, 5)\n"
   ]
  },
  {
   "cell_type": "code",
   "execution_count": null,
   "metadata": {},
   "outputs": [],
   "source": []
  }
 ],
 "metadata": {
  "kernelspec": {
   "display_name": "struct_diff",
   "language": "python",
   "name": "python3"
  },
  "language_info": {
   "codemirror_mode": {
    "name": "ipython",
    "version": 3
   },
   "file_extension": ".py",
   "mimetype": "text/x-python",
   "name": "python",
   "nbconvert_exporter": "python",
   "pygments_lexer": "ipython3",
   "version": "3.12.3"
  }
 },
 "nbformat": 4,
 "nbformat_minor": 2
}
