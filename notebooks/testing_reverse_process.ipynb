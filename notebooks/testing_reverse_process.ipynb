{
 "cells": [
  {
   "cell_type": "code",
   "execution_count": 17,
   "metadata": {},
   "outputs": [],
   "source": [
    "from esm.pretrained import ESM3_structure_encoder_v0, ESM3_structure_decoder_v0\n",
    "import torch\n",
    "import numpy as np\n",
    "\n",
    "import sys\n",
    "sys.path.append('/burg/home/jb5005')\n",
    "import os\n",
    "import pytorch_lightning as pl\n",
    "\n",
    "from struct_diff.data.flow import interpolate\n",
    "from struct_diff.data.datamodule import ContinuousStructTokenDataModule\n",
    "from struct_diff.model.models import TransformerModel\n",
    "from struct_diff.model.layers import TransformerLayer, positional_encoding, time_encoding\n",
    "\n",
    "device = torch.device(\"cuda\" if torch.cuda.is_available() else \"cpu\")"
   ]
  },
  {
   "cell_type": "code",
   "execution_count": 40,
   "metadata": {},
   "outputs": [],
   "source": [
    "pos_encoding= positional_encoding(300,1280, scale = 0.005)"
   ]
  },
  {
   "cell_type": "code",
   "execution_count": 27,
   "metadata": {},
   "outputs": [
    {
     "data": {
      "text/plain": [
       "tensor(0.0050)"
      ]
     },
     "execution_count": 27,
     "metadata": {},
     "output_type": "execute_result"
    }
   ],
   "source": [
    "time_enc = time_encoding(1.0, 300, 1280, scale = 0.005)\n",
    "time_enc.max()"
   ]
  },
  {
   "cell_type": "code",
   "execution_count": 2,
   "metadata": {},
   "outputs": [
    {
     "data": {
      "application/vnd.jupyter.widget-view+json": {
       "model_id": "39802ad89b2341a180684372c011ea4f",
       "version_major": 2,
       "version_minor": 0
      },
      "text/plain": [
       "Fetching 22 files:   0%|          | 0/22 [00:00<?, ?it/s]"
      ]
     },
     "metadata": {},
     "output_type": "display_data"
    },
    {
     "name": "stderr",
     "output_type": "stream",
     "text": [
      "/pmglocal/jb5005/mambaforge/envs/struct_diff/lib/python3.12/site-packages/esm/pretrained.py:43: FutureWarning: You are using `torch.load` with `weights_only=False` (the current default value), which uses the default pickle module implicitly. It is possible to construct malicious pickle data which will execute arbitrary code during unpickling (See https://github.com/pytorch/pytorch/blob/main/SECURITY.md#untrusted-models for more details). In a future release, the default value for `weights_only` will be flipped to `True`. This limits the functions that could be executed during unpickling. Arbitrary objects will no longer be allowed to be loaded via this mode unless they are explicitly allowlisted by the user via `torch.serialization.add_safe_globals`. We recommend you start setting `weights_only=True` for any use case where you don't have full control of the loaded file. Please open an issue on GitHub for any issues related to this experimental feature.\n",
      "  state_dict = torch.load(\n"
     ]
    }
   ],
   "source": [
    "decoder = ESM3_structure_decoder_v0(device=device)\n",
    "device = torch.device(\"cuda\" if torch.cuda.is_available() else \"cpu\")\n",
    "vocab = decoder.embed(torch.arange(0, 4100, device=device))"
   ]
  },
  {
   "cell_type": "code",
   "execution_count": 3,
   "metadata": {},
   "outputs": [],
   "source": [
    "vocab = decoder.embed(torch.arange(0, 4100, device=device))"
   ]
  },
  {
   "cell_type": "code",
   "execution_count": 4,
   "metadata": {},
   "outputs": [
    {
     "data": {
      "text/plain": [
       "tensor(0)"
      ]
     },
     "execution_count": 4,
     "metadata": {},
     "output_type": "execute_result"
    }
   ],
   "source": [
    "test_embed = vocab[0,:].unsqueeze(0)\n",
    "torch.argmin(torch.linalg.norm(vocab-test_embed, dim = -1))"
   ]
  },
  {
   "cell_type": "code",
   "execution_count": 5,
   "metadata": {},
   "outputs": [
    {
     "data": {
      "text/plain": [
       "tensor([[-4.6240e-01,  1.2386e+00,  3.2930e-01,  ..., -2.1146e-01,\n",
       "          6.7654e-01, -3.8436e-01],\n",
       "        [-3.4417e-01, -1.8243e-01,  3.5289e-01,  ...,  2.7764e+00,\n",
       "          1.1923e-01, -7.9778e-01],\n",
       "        [ 1.3175e+00, -7.6472e-01,  1.4671e+00,  ..., -5.7807e-01,\n",
       "         -2.0455e+00, -1.2015e+00],\n",
       "        ...,\n",
       "        [-1.5041e+00,  1.9361e+00,  1.1369e+00,  ...,  2.8015e-01,\n",
       "          5.5996e-01,  2.5161e-02],\n",
       "        [-9.4698e-03, -8.3337e-01,  1.3307e-05,  ...,  1.3011e-01,\n",
       "          7.4232e-01, -7.0243e-01],\n",
       "        [ 3.6010e-01,  1.1307e-01,  1.1625e-01,  ..., -2.0104e-01,\n",
       "         -1.4844e+00, -9.4192e-01]])"
      ]
     },
     "execution_count": 5,
     "metadata": {},
     "output_type": "execute_result"
    }
   ],
   "source": [
    "test_output = torch.randn([10,1280])\n",
    "test_output"
   ]
  },
  {
   "cell_type": "code",
   "execution_count": 6,
   "metadata": {},
   "outputs": [
    {
     "data": {
      "text/plain": [
       "[0, 1, 2, 3, 4, 5, 6, 7, 8, 9]"
      ]
     },
     "execution_count": 6,
     "metadata": {},
     "output_type": "execute_result"
    }
   ],
   "source": [
    "test_embed = vocab[0:10,:]\n",
    "\n",
    "test_stack = torch.stack([test_embed, test_embed], dim=0)\n",
    "distances = torch.cdist(test_embed, vocab, p=2)\n",
    "\n",
    "# Get the index of the minimum distance (closest row) for each input row\n",
    "closest_indices = distances.argmin(dim=-1)\n",
    "\n",
    "# Convert to a list\n",
    "closest_indices.tolist()"
   ]
  },
  {
   "cell_type": "code",
   "execution_count": 7,
   "metadata": {},
   "outputs": [],
   "source": [
    "def convert_continuous_to_discrete_token(x0):\n",
    "    \"\"\"\n",
    "    Maps backwards from the continuous token embedding to the discrete version\n",
    "    Computes the Eucledian distance between the continuous token and all discrete tokens, \n",
    "    then selects discrete with the smallest distance\n",
    "\n",
    "    args: x0 [BxLx1280]\n",
    "    \"\"\"\n",
    "    device = torch.device(\"cuda\" if torch.cuda.is_available() else \"cpu\")\n",
    "    decoder = ESM3_structure_decoder_v0(device=device)\n",
    "    vocab = decoder.embed(torch.arange(0, 4100, device=device))\n",
    "    distances = torch.cdist(x0, vocab, p=2)\n",
    "    closest_indices = distances.argmin(dim=-1)\n",
    "    return closest_indices    "
   ]
  },
  {
   "cell_type": "code",
   "execution_count": 5,
   "metadata": {},
   "outputs": [],
   "source": [
    "model = TransformerModel()\n",
    "layer = TransformerLayer()"
   ]
  },
  {
   "cell_type": "code",
   "execution_count": 12,
   "metadata": {},
   "outputs": [
    {
     "data": {
      "text/plain": [
       "tensor([[[False, False, False,  ..., False, False, False],\n",
       "         [False, False, False,  ..., False, False, False],\n",
       "         [False, False, False,  ..., False, False, False],\n",
       "         ...,\n",
       "         [False, False, False,  ..., False, False, False],\n",
       "         [False, False, False,  ..., False, False, False],\n",
       "         [False, False, False,  ..., False, False, False]]])"
      ]
     },
     "execution_count": 12,
     "metadata": {},
     "output_type": "execute_result"
    }
   ],
   "source": [
    "x_orig == 0.0"
   ]
  },
  {
   "cell_type": "code",
   "execution_count": 11,
   "metadata": {},
   "outputs": [
    {
     "data": {
      "text/plain": [
       "tensor([[[ 0.0394,  1.5524, -1.7389,  ...,  1.7119, -0.5969,  1.0694],\n",
       "         [ 0.7181,  1.0499, -1.0482,  ...,  1.7932, -0.6871,  0.9278],\n",
       "         [ 0.7626,  0.0639, -0.9469,  ...,  1.8666, -0.7137,  0.7816],\n",
       "         ...,\n",
       "         [-0.3231,  1.5246, -1.8775,  ...,  1.8185,  0.2351,  1.3290],\n",
       "         [ 0.5645,  1.5603, -2.1033,  ...,  1.8607,  0.2733,  1.3662],\n",
       "         [ 1.1641,  0.8868, -1.5779,  ...,  1.8802,  0.2765,  1.3763]]],\n",
       "       grad_fn=<NativeLayerNormBackward0>)"
      ]
     },
     "execution_count": 11,
     "metadata": {},
     "output_type": "execute_result"
    }
   ],
   "source": [
    "x_orig = torch.randn([1,128,1280])\n",
    "x = x_orig\n",
    "num_steps = 100\n",
    "# model.load_from_checkpoint()\n",
    "model.eval()\n",
    "for i in range(num_steps):\n",
    "    t = i/num_steps\n",
    "    x = model(x, t)\n",
    "\n",
    "x"
   ]
  },
  {
   "cell_type": "code",
   "execution_count": 24,
   "metadata": {},
   "outputs": [],
   "source": [
    "x_temp = x_orig"
   ]
  },
  {
   "cell_type": "code",
   "execution_count": 34,
   "metadata": {},
   "outputs": [
    {
     "data": {
      "text/plain": [
       "tensor([[[ 0.0054,  1.4817, -1.2321,  ..., -0.6667,  1.8546, -0.3587],\n",
       "         [-0.9143,  0.9169, -1.2277,  ..., -0.4016,  1.8338, -1.2030],\n",
       "         [-0.6997,  1.7334, -0.2508,  ...,  0.0689,  0.4850, -0.4182],\n",
       "         ...,\n",
       "         [-0.3185,  2.1321, -0.2828,  ..., -0.5648,  1.2682, -0.5033],\n",
       "         [ 0.3660,  1.8188,  0.9322,  ..., -1.3208,  2.0284, -1.5418],\n",
       "         [-0.8983,  1.7011,  0.6608,  ..., -0.4690,  2.5484, -0.4190]]],\n",
       "       grad_fn=<NativeLayerNormBackward0>)"
      ]
     },
     "execution_count": 34,
     "metadata": {},
     "output_type": "execute_result"
    }
   ],
   "source": [
    "x_temp = model(x_temp, 1.0)\n",
    "x_temp"
   ]
  },
  {
   "cell_type": "code",
   "execution_count": 29,
   "metadata": {},
   "outputs": [
    {
     "name": "stderr",
     "output_type": "stream",
     "text": [
      "/pmglocal/jb5005/mambaforge/envs/struct_diff/lib/python3.12/site-packages/esm/pretrained.py:43: FutureWarning: You are using `torch.load` with `weights_only=False` (the current default value), which uses the default pickle module implicitly. It is possible to construct malicious pickle data which will execute arbitrary code during unpickling (See https://github.com/pytorch/pytorch/blob/main/SECURITY.md#untrusted-models for more details). In a future release, the default value for `weights_only` will be flipped to `True`. This limits the functions that could be executed during unpickling. Arbitrary objects will no longer be allowed to be loaded via this mode unless they are explicitly allowlisted by the user via `torch.serialization.add_safe_globals`. We recommend you start setting `weights_only=True` for any use case where you don't have full control of the loaded file. Please open an issue on GitHub for any issues related to this experimental feature.\n",
      "  state_dict = torch.load(\n"
     ]
    },
    {
     "ename": "KeyboardInterrupt",
     "evalue": "",
     "output_type": "error",
     "traceback": [
      "\u001b[0;31m---------------------------------------------------------------------------\u001b[0m",
      "\u001b[0;31mKeyboardInterrupt\u001b[0m                         Traceback (most recent call last)",
      "Cell \u001b[0;32mIn[29], line 2\u001b[0m\n\u001b[1;32m      1\u001b[0m test_output \u001b[38;5;241m=\u001b[39m torch\u001b[38;5;241m.\u001b[39mrandn([\u001b[38;5;241m60\u001b[39m,\u001b[38;5;241m300\u001b[39m,\u001b[38;5;241m1280\u001b[39m])\n\u001b[0;32m----> 2\u001b[0m \u001b[43mconvert_continuous_to_discrete_token\u001b[49m\u001b[43m(\u001b[49m\u001b[43mtest_output\u001b[49m\u001b[43m)\u001b[49m\n",
      "Cell \u001b[0;32mIn[7], line 12\u001b[0m, in \u001b[0;36mconvert_continuous_to_discrete_token\u001b[0;34m(x0)\u001b[0m\n\u001b[1;32m     10\u001b[0m decoder \u001b[38;5;241m=\u001b[39m ESM3_structure_decoder_v0(device\u001b[38;5;241m=\u001b[39mdevice)\n\u001b[1;32m     11\u001b[0m vocab \u001b[38;5;241m=\u001b[39m decoder\u001b[38;5;241m.\u001b[39membed(torch\u001b[38;5;241m.\u001b[39marange(\u001b[38;5;241m0\u001b[39m, \u001b[38;5;241m4100\u001b[39m, device\u001b[38;5;241m=\u001b[39mdevice))\n\u001b[0;32m---> 12\u001b[0m distances \u001b[38;5;241m=\u001b[39m \u001b[43mtorch\u001b[49m\u001b[38;5;241;43m.\u001b[39;49m\u001b[43mcdist\u001b[49m\u001b[43m(\u001b[49m\u001b[43mx0\u001b[49m\u001b[43m,\u001b[49m\u001b[43m \u001b[49m\u001b[43mvocab\u001b[49m\u001b[43m,\u001b[49m\u001b[43m \u001b[49m\u001b[43mp\u001b[49m\u001b[38;5;241;43m=\u001b[39;49m\u001b[38;5;241;43m2\u001b[39;49m\u001b[43m)\u001b[49m\n\u001b[1;32m     13\u001b[0m closest_indices \u001b[38;5;241m=\u001b[39m distances\u001b[38;5;241m.\u001b[39margmin(dim\u001b[38;5;241m=\u001b[39m\u001b[38;5;241m-\u001b[39m\u001b[38;5;241m1\u001b[39m)\n\u001b[1;32m     14\u001b[0m \u001b[38;5;28;01mreturn\u001b[39;00m closest_indices\n",
      "File \u001b[0;32m/pmglocal/jb5005/mambaforge/envs/struct_diff/lib/python3.12/site-packages/torch/functional.py:1478\u001b[0m, in \u001b[0;36mcdist\u001b[0;34m(x1, x2, p, compute_mode)\u001b[0m\n\u001b[1;32m   1474\u001b[0m     \u001b[38;5;28;01mreturn\u001b[39;00m handle_torch_function(\n\u001b[1;32m   1475\u001b[0m         cdist, (x1, x2), x1, x2, p\u001b[38;5;241m=\u001b[39mp, compute_mode\u001b[38;5;241m=\u001b[39mcompute_mode\n\u001b[1;32m   1476\u001b[0m     )\n\u001b[1;32m   1477\u001b[0m \u001b[38;5;28;01mif\u001b[39;00m compute_mode \u001b[38;5;241m==\u001b[39m \u001b[38;5;124m\"\u001b[39m\u001b[38;5;124muse_mm_for_euclid_dist_if_necessary\u001b[39m\u001b[38;5;124m\"\u001b[39m:\n\u001b[0;32m-> 1478\u001b[0m     \u001b[38;5;28;01mreturn\u001b[39;00m \u001b[43m_VF\u001b[49m\u001b[38;5;241;43m.\u001b[39;49m\u001b[43mcdist\u001b[49m\u001b[43m(\u001b[49m\u001b[43mx1\u001b[49m\u001b[43m,\u001b[49m\u001b[43m \u001b[49m\u001b[43mx2\u001b[49m\u001b[43m,\u001b[49m\u001b[43m \u001b[49m\u001b[43mp\u001b[49m\u001b[43m,\u001b[49m\u001b[43m \u001b[49m\u001b[38;5;28;43;01mNone\u001b[39;49;00m\u001b[43m)\u001b[49m  \u001b[38;5;66;03m# type: ignore[attr-defined]\u001b[39;00m\n\u001b[1;32m   1479\u001b[0m \u001b[38;5;28;01melif\u001b[39;00m compute_mode \u001b[38;5;241m==\u001b[39m \u001b[38;5;124m\"\u001b[39m\u001b[38;5;124muse_mm_for_euclid_dist\u001b[39m\u001b[38;5;124m\"\u001b[39m:\n\u001b[1;32m   1480\u001b[0m     \u001b[38;5;28;01mreturn\u001b[39;00m _VF\u001b[38;5;241m.\u001b[39mcdist(x1, x2, p, \u001b[38;5;241m1\u001b[39m)  \u001b[38;5;66;03m# type: ignore[attr-defined]\u001b[39;00m\n",
      "\u001b[0;31mKeyboardInterrupt\u001b[0m: "
     ]
    }
   ],
   "source": [
    "test_output = torch.randn([60,300,1280])\n",
    "convert_continuous_to_discrete_token(test_output)\n"
   ]
  },
  {
   "cell_type": "code",
   "execution_count": null,
   "metadata": {},
   "outputs": [],
   "source": []
  },
  {
   "cell_type": "code",
   "execution_count": null,
   "metadata": {},
   "outputs": [],
   "source": []
  }
 ],
 "metadata": {
  "kernelspec": {
   "display_name": "struct_diff",
   "language": "python",
   "name": "python3"
  },
  "language_info": {
   "codemirror_mode": {
    "name": "ipython",
    "version": 3
   },
   "file_extension": ".py",
   "mimetype": "text/x-python",
   "name": "python",
   "nbconvert_exporter": "python",
   "pygments_lexer": "ipython3",
   "version": "3.12.3"
  }
 },
 "nbformat": 4,
 "nbformat_minor": 2
}
