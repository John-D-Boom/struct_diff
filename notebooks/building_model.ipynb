{
 "cells": [
  {
   "cell_type": "code",
   "execution_count": 1,
   "metadata": {},
   "outputs": [],
   "source": [
    "import torch\n",
    "import numpy as np\n",
    "import sys\n",
    "sys.path.append('/burg/home/jb5005')\n",
    "from struct_diff.data.datamodule import ContinuousStructTokenDataModule\n",
    "from struct_diff.data.dataset import ContinuousStructTokenDataset\n",
    "from struct_diff.model.models import TransformerModel\n",
    "from esm.pretrained import ESM3_structure_encoder_v0, ESM3_structure_decoder_v0\n",
    "import time\n",
    "\n",
    "from struct_diff.model.layers import TransformerLayer, positional_encoding, time_encoding\n",
    "\n",
    "device = torch.device('cuda' if torch.cuda.is_available() else 'cpu')   "
   ]
  },
  {
   "cell_type": "code",
   "execution_count": 2,
   "metadata": {},
   "outputs": [
    {
     "ename": "NameError",
     "evalue": "name 'dataset' is not defined",
     "output_type": "error",
     "traceback": [
      "\u001b[0;31m---------------------------------------------------------------------------\u001b[0m",
      "\u001b[0;31mNameError\u001b[0m                                 Traceback (most recent call last)",
      "Cell \u001b[0;32mIn[2], line 1\u001b[0m\n\u001b[0;32m----> 1\u001b[0m \u001b[43mdataset\u001b[49m\u001b[38;5;241m.\u001b[39m\u001b[38;5;21m__getitem__\u001b[39m(\u001b[38;5;241m183\u001b[39m)\u001b[38;5;241m.\u001b[39mshape\n",
      "\u001b[0;31mNameError\u001b[0m: name 'dataset' is not defined"
     ]
    }
   ],
   "source": [
    "dataset.__getitem__(183).shape"
   ]
  },
  {
   "cell_type": "code",
   "execution_count": 3,
   "metadata": {},
   "outputs": [
    {
     "data": {
      "application/vnd.jupyter.widget-view+json": {
       "model_id": "dbe83bd9ecac4cb7b4a76087ccb09444",
       "version_major": 2,
       "version_minor": 0
      },
      "text/plain": [
       "Fetching 22 files:   0%|          | 0/22 [00:00<?, ?it/s]"
      ]
     },
     "metadata": {},
     "output_type": "display_data"
    },
    {
     "name": "stderr",
     "output_type": "stream",
     "text": [
      "/pmglocal/jb5005/mambaforge/envs/struct_diff/lib/python3.12/site-packages/esm/pretrained.py:46: FutureWarning: You are using `torch.load` with `weights_only=False` (the current default value), which uses the default pickle module implicitly. It is possible to construct malicious pickle data which will execute arbitrary code during unpickling (See https://github.com/pytorch/pytorch/blob/main/SECURITY.md#untrusted-models for more details). In a future release, the default value for `weights_only` will be flipped to `True`. This limits the functions that could be executed during unpickling. Arbitrary objects will no longer be allowed to be loaded via this mode unless they are explicitly allowlisted by the user via `torch.serialization.add_safe_globals`. We recommend you start setting `weights_only=True` for any use case where you don't have full control of the loaded file. Please open an issue on GitHub for any issues related to this experimental feature.\n",
      "  state_dict = torch.load(\n"
     ]
    },
    {
     "name": "stdout",
     "output_type": "stream",
     "text": [
      "done\n"
     ]
    }
   ],
   "source": [
    "dataset = ContinuousStructTokenDataset(base_path = '/pmglocal/jb5005/struct_diff_data/data', \n",
    "                                       df_path = '/burg/home/jb5005/struct_diff/data/seq_len.csv')\n",
    "\n",
    "for i in range(2000):\n",
    "    thingy = dataset.__getitem__(i)\n",
    "    try:\n",
    "        if thingy.shape[1] != 1280:\n",
    "            print(i)\n",
    "    except:\n",
    "        print('error')\n",
    "        print(i)\n",
    "    if i == 1999:\n",
    "        print('done')"
   ]
  },
  {
   "cell_type": "code",
   "execution_count": 4,
   "metadata": {},
   "outputs": [
    {
     "name": "stderr",
     "output_type": "stream",
     "text": [
      "\u001b[34m\u001b[1mwandb\u001b[0m: Using wandb-core as the SDK backend.  Please refer to https://wandb.me/wandb-core for more information.\n",
      "\u001b[34m\u001b[1mwandb\u001b[0m: Currently logged in as: \u001b[33mjohndboom\u001b[0m. Use \u001b[1m`wandb login --relogin`\u001b[0m to force relogin\n"
     ]
    },
    {
     "data": {
      "text/html": [
       "Tracking run with wandb version 0.19.0"
      ],
      "text/plain": [
       "<IPython.core.display.HTML object>"
      ]
     },
     "metadata": {},
     "output_type": "display_data"
    },
    {
     "data": {
      "text/html": [
       "Run data is saved locally in <code>./wandb/run-20241209_223913-bh5i19zk</code>"
      ],
      "text/plain": [
       "<IPython.core.display.HTML object>"
      ]
     },
     "metadata": {},
     "output_type": "display_data"
    },
    {
     "data": {
      "text/html": [
       "Syncing run <strong><a href='https://wandb.ai/johndboom/struct_diff_v0/runs/bh5i19zk' target=\"_blank\">copper-music-9</a></strong> to <a href='https://wandb.ai/johndboom/struct_diff_v0' target=\"_blank\">Weights & Biases</a> (<a href='https://wandb.me/developer-guide' target=\"_blank\">docs</a>)<br/>"
      ],
      "text/plain": [
       "<IPython.core.display.HTML object>"
      ]
     },
     "metadata": {},
     "output_type": "display_data"
    },
    {
     "data": {
      "text/html": [
       " View project at <a href='https://wandb.ai/johndboom/struct_diff_v0' target=\"_blank\">https://wandb.ai/johndboom/struct_diff_v0</a>"
      ],
      "text/plain": [
       "<IPython.core.display.HTML object>"
      ]
     },
     "metadata": {},
     "output_type": "display_data"
    },
    {
     "data": {
      "text/html": [
       " View run at <a href='https://wandb.ai/johndboom/struct_diff_v0/runs/bh5i19zk' target=\"_blank\">https://wandb.ai/johndboom/struct_diff_v0/runs/bh5i19zk</a>"
      ],
      "text/plain": [
       "<IPython.core.display.HTML object>"
      ]
     },
     "metadata": {},
     "output_type": "display_data"
    },
    {
     "name": "stderr",
     "output_type": "stream",
     "text": [
      "/pmglocal/jb5005/mambaforge/envs/struct_diff/lib/python3.12/site-packages/esm/pretrained.py:46: FutureWarning: You are using `torch.load` with `weights_only=False` (the current default value), which uses the default pickle module implicitly. It is possible to construct malicious pickle data which will execute arbitrary code during unpickling (See https://github.com/pytorch/pytorch/blob/main/SECURITY.md#untrusted-models for more details). In a future release, the default value for `weights_only` will be flipped to `True`. This limits the functions that could be executed during unpickling. Arbitrary objects will no longer be allowed to be loaded via this mode unless they are explicitly allowlisted by the user via `torch.serialization.add_safe_globals`. We recommend you start setting `weights_only=True` for any use case where you don't have full control of the loaded file. Please open an issue on GitHub for any issues related to this experimental feature.\n",
      "  state_dict = torch.load(\n",
      "/pmglocal/jb5005/mambaforge/envs/struct_diff/lib/python3.12/site-packages/lightning_fabric/plugins/environments/slurm.py:204: The `srun` command is available on your system but is not used. HINT: If your intention is to run Lightning on SLURM, prepend your python command with `srun` like so: srun python /pmglocal/jb5005/mambaforge/envs/struct_diff/lib/pyt ...\n",
      "GPU available: True (cuda), used: True\n",
      "TPU available: False, using: 0 TPU cores\n",
      "HPU available: False, using: 0 HPUs\n",
      "/pmglocal/jb5005/mambaforge/envs/struct_diff/lib/python3.12/site-packages/pytorch_lightning/trainer/configuration_validator.py:70: You defined a `validation_step` but have no `val_dataloader`. Skipping val loop.\n",
      "You are using a CUDA device ('NVIDIA RTX A6000') that has Tensor Cores. To properly utilize them, you should set `torch.set_float32_matmul_precision('medium' | 'high')` which will trade-off precision for performance. For more details, read https://pytorch.org/docs/stable/generated/torch.set_float32_matmul_precision.html#torch.set_float32_matmul_precision\n",
      "/pmglocal/jb5005/mambaforge/envs/struct_diff/lib/python3.12/site-packages/esm/pretrained.py:46: FutureWarning: You are using `torch.load` with `weights_only=False` (the current default value), which uses the default pickle module implicitly. It is possible to construct malicious pickle data which will execute arbitrary code during unpickling (See https://github.com/pytorch/pytorch/blob/main/SECURITY.md#untrusted-models for more details). In a future release, the default value for `weights_only` will be flipped to `True`. This limits the functions that could be executed during unpickling. Arbitrary objects will no longer be allowed to be loaded via this mode unless they are explicitly allowlisted by the user via `torch.serialization.add_safe_globals`. We recommend you start setting `weights_only=True` for any use case where you don't have full control of the loaded file. Please open an issue on GitHub for any issues related to this experimental feature.\n",
      "  state_dict = torch.load(\n",
      "LOCAL_RANK: 0 - CUDA_VISIBLE_DEVICES: [0]\n",
      "\n",
      "  | Name        | Type             | Params | Mode \n",
      "---------------------------------------------------------\n",
      "0 | trans_layer | TransformerLayer | 9.8 M  | train\n",
      "---------------------------------------------------------\n",
      "9.8 M     Trainable params\n",
      "0         Non-trainable params\n",
      "9.8 M     Total params\n",
      "39.373    Total estimated model params size (MB)\n",
      "11        Modules in train mode\n",
      "0         Modules in eval mode\n"
     ]
    },
    {
     "data": {
      "application/vnd.jupyter.widget-view+json": {
       "model_id": "b3dc1caaabfd4caf9e43f5ddd2222262",
       "version_major": 2,
       "version_minor": 0
      },
      "text/plain": [
       "Training: |          | 0/? [00:00<?, ?it/s]"
      ]
     },
     "metadata": {},
     "output_type": "display_data"
    },
    {
     "name": "stderr",
     "output_type": "stream",
     "text": [
      "`Trainer.fit` stopped: `max_epochs=20` reached.\n"
     ]
    }
   ],
   "source": [
    "import sys\n",
    "sys.path.append('/burg/home/jb5005')\n",
    "import numpy as np\n",
    "import os\n",
    "import pytorch_lightning as pl\n",
    "from pytorch_lightning.loggers import WandbLogger\n",
    "from pytorch_lightning.callbacks import LearningRateMonitor\n",
    "import matplotlib.pyplot as plt\n",
    "import torch\n",
    "import wandb\n",
    "\n",
    "from struct_diff.data.flow import interpolate\n",
    "from struct_diff.data.datamodule import ContinuousStructTokenDataModule\n",
    "from struct_diff.model.models import TransformerModel\n",
    "\n",
    "\n",
    "device = torch.device(\"cuda\" if torch.cuda.is_available() else \"cpu\")\n",
    "\n",
    "num_transformer_heads = 8\n",
    "architecture = \"transformer\"\n",
    "batching = \"padding\"\n",
    "\n",
    "wandb_logger = WandbLogger(project=\"struct_diff_v0\")\n",
    "wandb_logger.experiment.config[\"batching\"] = batching\n",
    "wandb_logger.experiment.config[\"architecture\"] = architecture\n",
    "wandb_logger.experiment.config[\"nhead\"] = num_transformer_heads\n",
    "\n",
    "\n",
    "#Load the data\n",
    "datamodule = ContinuousStructTokenDataModule(base_path = '/pmglocal/jb5005/struct_diff_data/data', \n",
    "                                             df_path = '/burg/home/jb5005/struct_diff/data/seq_len.csv',\n",
    "                                             num_workers = 0,\n",
    "                                             decoder = None)\n",
    "datamodule.setup('train')\n",
    "\n",
    "#Setup model\n",
    "model = TransformerModel()\n",
    "model = model.to(device)\n",
    "\n",
    "trainer = pl.Trainer(max_epochs=20, enable_progress_bar=True, logger = wandb_logger)\n",
    "\n",
    "trainer.fit(model = model, datamodule= datamodule)"
   ]
  },
  {
   "cell_type": "code",
   "execution_count": 2,
   "metadata": {},
   "outputs": [
    {
     "data": {
      "application/vnd.jupyter.widget-view+json": {
       "model_id": "04fb3069613a4cd682be19aa6fe25b20",
       "version_major": 2,
       "version_minor": 0
      },
      "text/plain": [
       "Fetching 22 files:   0%|          | 0/22 [00:00<?, ?it/s]"
      ]
     },
     "metadata": {},
     "output_type": "display_data"
    },
    {
     "name": "stderr",
     "output_type": "stream",
     "text": [
      "/pmglocal/jb5005/mambaforge/envs/struct_diff/lib/python3.12/site-packages/esm/pretrained.py:46: FutureWarning: You are using `torch.load` with `weights_only=False` (the current default value), which uses the default pickle module implicitly. It is possible to construct malicious pickle data which will execute arbitrary code during unpickling (See https://github.com/pytorch/pytorch/blob/main/SECURITY.md#untrusted-models for more details). In a future release, the default value for `weights_only` will be flipped to `True`. This limits the functions that could be executed during unpickling. Arbitrary objects will no longer be allowed to be loaded via this mode unless they are explicitly allowlisted by the user via `torch.serialization.add_safe_globals`. We recommend you start setting `weights_only=True` for any use case where you don't have full control of the loaded file. Please open an issue on GitHub for any issues related to this experimental feature.\n",
      "  state_dict = torch.load(\n",
      "/burg/home/jb5005/struct_diff/data/dataset.py:57: UserWarning: To copy construct from a tensor, it is recommended to use sourceTensor.clone().detach() or sourceTensor.clone().detach().requires_grad_(True), rather than torch.tensor(sourceTensor).\n",
      "  return torch.tensor(cont_emb)\n"
     ]
    }
   ],
   "source": [
    "datamodule = ContinuousStructTokenDataModule(base_path = '/pmglocal/jb5005/struct_diff_data/data', \n",
    "                                             df_path = '/burg/home/jb5005/struct_diff/data/seq_len.csv',\n",
    "                                             num_workers = 0,\n",
    "                                             decoder = None)\n",
    "datamodule.setup('train')\n",
    "\n",
    "dataloader = datamodule.train_dataloader()\n",
    "first_element = next(iter(dataloader))"
   ]
  },
  {
   "cell_type": "code",
   "execution_count": 5,
   "metadata": {},
   "outputs": [
    {
     "data": {
      "text/plain": [
       "tensor([[[ 0.7534,  0.9418,  0.3182,  ...,  1.6682, -0.3786,  0.3969],\n",
       "         [ 0.8566,  0.4398,  0.2601,  ...,  1.3953, -1.6668,  0.3695],\n",
       "         [ 0.9763,  0.0325,  0.0487,  ...,  1.6311, -0.3386,  0.4285],\n",
       "         ...,\n",
       "         [ 0.9666, -0.6716,  0.7412,  ...,  1.8030, -0.4208,  1.9236],\n",
       "         [ 1.0688, -1.5287, -0.0336,  ...,  1.7772, -0.4034,  1.9060],\n",
       "         [ 0.4166, -2.0776, -0.1557,  ...,  1.7663, -0.4316,  1.8877]],\n",
       "\n",
       "        [[ 3.0384,  0.2797, -0.1461,  ...,  0.1311, -2.3067, -0.7793],\n",
       "         [-0.2728, -0.1264,  1.4604,  ...,  2.0726, -0.4957, -0.3555],\n",
       "         [ 1.7539,  0.3666,  1.4186,  ...,  1.1522, -0.2600,  0.1991],\n",
       "         ...,\n",
       "         [ 0.8487, -0.7989,  0.7671,  ...,  1.5496, -0.3610,  1.8884],\n",
       "         [ 0.9543, -1.6730, -0.0278,  ...,  1.5306, -0.3484,  1.8791],\n",
       "         [ 0.2843, -2.2296, -0.1536,  ...,  1.5266, -0.3815,  1.8707]],\n",
       "\n",
       "        [[ 1.5106,  1.8138, -0.0817,  ...,  2.4542, -0.8729,  1.2898],\n",
       "         [ 1.4226,  0.6056,  0.4753,  ...,  1.2529, -1.0556, -0.2005],\n",
       "         [-0.1706,  1.1360, -0.5149,  ...,  0.4639, -0.0485,  0.5724],\n",
       "         ...,\n",
       "         [ 0.8490, -0.7851,  0.7755,  ...,  1.6114, -0.3545,  1.9005],\n",
       "         [ 0.9537, -1.6586, -0.0167,  ...,  1.5923, -0.3414,  1.8897],\n",
       "         [ 0.2881, -2.2156, -0.1412,  ...,  1.5880, -0.3751,  1.8790]],\n",
       "\n",
       "        ...,\n",
       "\n",
       "        [[ 1.1270,  0.5983,  0.2979,  ...,  1.6055, -0.5229,  0.2361],\n",
       "         [ 0.8497,  0.7668,  0.4220,  ...,  1.2187, -0.4513,  0.5267],\n",
       "         [ 1.1317,  0.4587, -0.0738,  ...,  1.5831, -0.4171,  0.2185],\n",
       "         ...,\n",
       "         [ 0.9415, -0.7143,  0.7435,  ...,  1.7795, -0.3958,  1.9270],\n",
       "         [ 1.0449, -1.5742, -0.0333,  ...,  1.7544, -0.3792,  1.9091],\n",
       "         [ 0.3916, -2.1253, -0.1551,  ...,  1.7440, -0.4087,  1.8904]],\n",
       "\n",
       "        [[-0.2013,  0.7746,  0.2949,  ...,  0.8853, -0.0837,  0.2341],\n",
       "         [ 0.4058, -1.1258,  0.1317,  ..., -0.6309, -0.8154,  1.5522],\n",
       "         [-1.2526, -0.8674, -0.1615,  ...,  0.6435,  1.2298, -0.2301],\n",
       "         ...,\n",
       "         [ 0.8434, -0.7779,  0.7238,  ...,  1.5046, -0.3671,  1.8439],\n",
       "         [ 0.9498, -1.6509, -0.0730,  ...,  1.4853, -0.3565,  1.8362],\n",
       "         [ 0.2774, -2.2067, -0.1992,  ...,  1.4818, -0.3901,  1.8307]],\n",
       "\n",
       "        [[ 0.3295,  1.4526,  0.6544,  ...,  1.7079, -0.5148,  0.0530],\n",
       "         [ 0.3692,  1.4933,  1.0949,  ...,  0.7096, -0.0548,  0.5923],\n",
       "         [ 0.3181, -0.6273, -0.6300,  ...,  1.3460,  1.1858,  0.5386],\n",
       "         ...,\n",
       "         [ 0.8480, -0.7921,  0.7466,  ...,  1.5189, -0.3571,  1.8718],\n",
       "         [ 0.9543, -1.6662, -0.0489,  ...,  1.5000, -0.3449,  1.8641],\n",
       "         [ 0.2831, -2.2224, -0.1748,  ...,  1.4969, -0.3779,  1.8577]]],\n",
       "       device='cuda:0', grad_fn=<NativeLayerNormBackward0>)"
      ]
     },
     "execution_count": 5,
     "metadata": {},
     "output_type": "execute_result"
    }
   ],
   "source": [
    "model = TransformerModel()\n",
    "model = model.to(device)\n",
    "\n",
    "model(first_element, torch.tensor(0.5, device = \"cuda\"))"
   ]
  },
  {
   "cell_type": "code",
   "execution_count": 8,
   "metadata": {},
   "outputs": [
    {
     "data": {
      "text/plain": [
       "tensor([[[-0.0143,  0.0996,  0.0006,  ...,  0.0136,  0.0469, -0.0461],\n",
       "         [-0.0137,  0.0693, -0.0767,  ...,  0.0923, -0.0786, -0.0820],\n",
       "         [-0.1328,  0.0090, -0.1904,  ..., -0.0011,  0.0718,  0.0579],\n",
       "         ...,\n",
       "         [ 0.0000,  0.0000,  0.0000,  ...,  0.0000,  0.0000,  0.0000],\n",
       "         [ 0.0000,  0.0000,  0.0000,  ...,  0.0000,  0.0000,  0.0000],\n",
       "         [ 0.0000,  0.0000,  0.0000,  ...,  0.0000,  0.0000,  0.0000]],\n",
       "\n",
       "        [[ 0.0649,  0.0060, -0.1318,  ..., -0.0233, -0.0035,  0.0391],\n",
       "         [-0.1006, -0.0466,  0.0201,  ..., -0.0097, -0.0304, -0.0025],\n",
       "         [ 0.0131, -0.0364, -0.0104,  ..., -0.1143, -0.0396,  0.0276],\n",
       "         ...,\n",
       "         [ 0.0000,  0.0000,  0.0000,  ...,  0.0000,  0.0000,  0.0000],\n",
       "         [ 0.0000,  0.0000,  0.0000,  ...,  0.0000,  0.0000,  0.0000],\n",
       "         [ 0.0000,  0.0000,  0.0000,  ...,  0.0000,  0.0000,  0.0000]],\n",
       "\n",
       "        [[ 0.0371,  0.0266, -0.0046,  ...,  0.0262, -0.0684, -0.0359],\n",
       "         [ 0.0513, -0.1279, -0.0012,  ..., -0.1064,  0.0179, -0.0525],\n",
       "         [ 0.0371,  0.0266, -0.0046,  ...,  0.0262, -0.0684, -0.0359],\n",
       "         ...,\n",
       "         [ 0.0000,  0.0000,  0.0000,  ...,  0.0000,  0.0000,  0.0000],\n",
       "         [ 0.0000,  0.0000,  0.0000,  ...,  0.0000,  0.0000,  0.0000],\n",
       "         [ 0.0000,  0.0000,  0.0000,  ...,  0.0000,  0.0000,  0.0000]],\n",
       "\n",
       "        ...,\n",
       "\n",
       "        [[ 0.1226,  0.0311, -0.0089,  ...,  0.1206,  0.0664,  0.0513],\n",
       "         [ 0.0718, -0.0127,  0.0962,  ..., -0.0610, -0.1157, -0.1187],\n",
       "         [-0.0242,  0.1187,  0.0344,  ...,  0.0603, -0.0588, -0.0447],\n",
       "         ...,\n",
       "         [ 0.0000,  0.0000,  0.0000,  ...,  0.0000,  0.0000,  0.0000],\n",
       "         [ 0.0000,  0.0000,  0.0000,  ...,  0.0000,  0.0000,  0.0000],\n",
       "         [ 0.0000,  0.0000,  0.0000,  ...,  0.0000,  0.0000,  0.0000]],\n",
       "\n",
       "        [[ 0.0972,  0.1138,  0.1016,  ...,  0.0082, -0.0640,  0.0679],\n",
       "         [ 0.2158,  0.0435,  0.0933,  ..., -0.0952, -0.0058,  0.0007],\n",
       "         [-0.0294,  0.0928, -0.1099,  ..., -0.0151,  0.0977,  0.0608],\n",
       "         ...,\n",
       "         [ 0.0000,  0.0000,  0.0000,  ...,  0.0000,  0.0000,  0.0000],\n",
       "         [ 0.0000,  0.0000,  0.0000,  ...,  0.0000,  0.0000,  0.0000],\n",
       "         [ 0.0000,  0.0000,  0.0000,  ...,  0.0000,  0.0000,  0.0000]],\n",
       "\n",
       "        [[ 0.0265,  0.1030, -0.0233,  ...,  0.0586, -0.0225,  0.1187],\n",
       "         [-0.0125, -0.0835, -0.0161,  ...,  0.0645,  0.1226,  0.0028],\n",
       "         [ 0.0645,  0.0155, -0.0801,  ..., -0.0615, -0.0225, -0.0270],\n",
       "         ...,\n",
       "         [ 0.0000,  0.0000,  0.0000,  ...,  0.0000,  0.0000,  0.0000],\n",
       "         [ 0.0000,  0.0000,  0.0000,  ...,  0.0000,  0.0000,  0.0000],\n",
       "         [ 0.0000,  0.0000,  0.0000,  ...,  0.0000,  0.0000,  0.0000]]],\n",
       "       device='cuda:0')"
      ]
     },
     "execution_count": 8,
     "metadata": {},
     "output_type": "execute_result"
    }
   ],
   "source": [
    "first_element"
   ]
  },
  {
   "cell_type": "code",
   "execution_count": null,
   "metadata": {},
   "outputs": [
    {
     "name": "stderr",
     "output_type": "stream",
     "text": [
      "/burg/home/jb5005/struct_diff/data/dataset.py:57: UserWarning: To copy construct from a tensor, it is recommended to use sourceTensor.clone().detach() or sourceTensor.clone().detach().requires_grad_(True), rather than torch.tensor(sourceTensor).\n",
      "  return torch.tensor(cont_emb)\n"
     ]
    }
   ],
   "source": []
  },
  {
   "cell_type": "code",
   "execution_count": 4,
   "metadata": {},
   "outputs": [],
   "source": [
    "dataset = ContinuousStructTokenDataset(base_path = '/pmglocal/jb5005/struct_diff_data/data', df_path = '/burg/home/jb5005/struct_diff/data/seq_len.csv')"
   ]
  },
  {
   "cell_type": "code",
   "execution_count": 8,
   "metadata": {},
   "outputs": [
    {
     "name": "stdout",
     "output_type": "stream",
     "text": [
      "Time to load pdb: 0.0007641315460205078\n",
      "Time to create protein object: 5.0067901611328125e-06\n",
      "Time to convert to continuous embeddings: 0.0003159046173095703\n"
     ]
    },
    {
     "data": {
      "text/plain": [
       "torch.Size([104, 1280])"
      ]
     },
     "execution_count": 8,
     "metadata": {},
     "output_type": "execute_result"
    }
   ],
   "source": [
    "dataset.__getitem__(18).shape"
   ]
  },
  {
   "cell_type": "code",
   "execution_count": 17,
   "metadata": {},
   "outputs": [],
   "source": [
    "decoder = ESM3_structure_decoder_v0(device='cuda')"
   ]
  },
  {
   "cell_type": "code",
   "execution_count": 21,
   "metadata": {},
   "outputs": [
    {
     "name": "stdout",
     "output_type": "stream",
     "text": [
      "torch.Size([1000, 1280])\n",
      "Time taken for embedding: 0.0008194446563720703\n"
     ]
    }
   ],
   "source": [
    "start = time.time()\n",
    "arr = np.arange(0,1000)\n",
    "print(decoder.embed(torch.tensor(arr, device = \"cuda\")).shape)\n",
    "print(f\"Time taken for embedding: {time.time() - start}\")"
   ]
  },
  {
   "cell_type": "code",
   "execution_count": 5,
   "metadata": {},
   "outputs": [
    {
     "data": {
      "text/plain": [
       "torch.Size([32, 296, 1280])"
      ]
     },
     "execution_count": 5,
     "metadata": {},
     "output_type": "execute_result"
    }
   ],
   "source": [
    "first_element.shape"
   ]
  },
  {
   "cell_type": "code",
   "execution_count": null,
   "metadata": {},
   "outputs": [
    {
     "data": {
      "text/plain": [
       "tensor([[-0.0123,  0.0757, -0.0201,  ...,  0.0581, -0.0137, -0.0153],\n",
       "        [ 0.0508,  0.1787, -0.0540,  ..., -0.0391,  0.0718,  0.0049],\n",
       "        [ 0.0903, -0.0347,  0.0090,  ..., -0.0459, -0.0913,  0.0542],\n",
       "        ...,\n",
       "        [ 0.0000,  0.0000,  0.0000,  ...,  0.0000,  0.0000,  0.0000],\n",
       "        [ 0.0000,  0.0000,  0.0000,  ...,  0.0000,  0.0000,  0.0000],\n",
       "        [ 0.0000,  0.0000,  0.0000,  ...,  0.0000,  0.0000,  0.0000]],\n",
       "       device='cuda:0')"
      ]
     },
     "execution_count": 6,
     "metadata": {},
     "output_type": "execute_result"
    }
   ],
   "source": [
    "first_element[0,:,:]"
   ]
  },
  {
   "cell_type": "code",
   "execution_count": 9,
   "metadata": {},
   "outputs": [],
   "source": [
    "tensor_to_add = torch.randn([296,1280]).to('cuda')\n",
    "\n",
    "result = first_element + tensor_to_add.unsqueeze(0)"
   ]
  },
  {
   "cell_type": "code",
   "execution_count": null,
   "metadata": {},
   "outputs": [
    {
     "data": {
      "text/plain": [
       "tensor([[[-2.6396,  2.3772, -0.3354,  ...,  1.4915,  2.4224,  2.4508],\n",
       "         [ 0.0118,  0.8667,  0.4948,  ..., -1.0640,  0.3702, -1.0209],\n",
       "         [-1.4208, -0.6164,  1.2664,  ...,  0.1258,  0.6534,  0.6582],\n",
       "         ...,\n",
       "         [ 1.0933, -0.7741, -0.1789,  ...,  0.2260,  0.6766,  0.1971],\n",
       "         [-0.3510,  0.8482,  0.6945,  ...,  0.3624,  0.2226,  1.2152],\n",
       "         [-0.9116, -0.5517,  1.9972,  ..., -0.7783,  1.4103, -0.7878]],\n",
       "\n",
       "        [[-2.6396,  2.3772, -0.3354,  ...,  1.4915,  2.4224,  2.4508],\n",
       "         [ 0.0118,  0.8667,  0.4948,  ..., -1.0640,  0.3702, -1.0209],\n",
       "         [-1.4208, -0.6164,  1.2664,  ...,  0.1258,  0.6534,  0.6582],\n",
       "         ...,\n",
       "         [ 1.0933, -0.7741, -0.1789,  ...,  0.2260,  0.6766,  0.1971],\n",
       "         [-0.3510,  0.8482,  0.6945,  ...,  0.3624,  0.2226,  1.2152],\n",
       "         [-0.9116, -0.5517,  1.9972,  ..., -0.7783,  1.4103, -0.7878]],\n",
       "\n",
       "        [[-2.6396,  2.3772, -0.3354,  ...,  1.4915,  2.4224,  2.4508],\n",
       "         [ 0.0118,  0.8667,  0.4948,  ..., -1.0640,  0.3702, -1.0209],\n",
       "         [-1.4208, -0.6164,  1.2664,  ...,  0.1258,  0.6534,  0.6582],\n",
       "         ...,\n",
       "         [ 1.0933, -0.7741, -0.1789,  ...,  0.2260,  0.6766,  0.1971],\n",
       "         [-0.3510,  0.8482,  0.6945,  ...,  0.3624,  0.2226,  1.2152],\n",
       "         [-0.9116, -0.5517,  1.9972,  ..., -0.7783,  1.4103, -0.7878]],\n",
       "\n",
       "        ...,\n",
       "\n",
       "        [[-2.6396,  2.3772, -0.3354,  ...,  1.4915,  2.4224,  2.4508],\n",
       "         [ 0.0118,  0.8667,  0.4948,  ..., -1.0640,  0.3702, -1.0209],\n",
       "         [-1.4208, -0.6164,  1.2664,  ...,  0.1258,  0.6534,  0.6582],\n",
       "         ...,\n",
       "         [ 1.0933, -0.7741, -0.1789,  ...,  0.2260,  0.6766,  0.1971],\n",
       "         [-0.3510,  0.8482,  0.6945,  ...,  0.3624,  0.2226,  1.2152],\n",
       "         [-0.9116, -0.5517,  1.9972,  ..., -0.7783,  1.4103, -0.7878]],\n",
       "\n",
       "        [[-2.6396,  2.3772, -0.3354,  ...,  1.4915,  2.4224,  2.4508],\n",
       "         [ 0.0118,  0.8667,  0.4948,  ..., -1.0640,  0.3702, -1.0209],\n",
       "         [-1.4208, -0.6164,  1.2664,  ...,  0.1258,  0.6534,  0.6582],\n",
       "         ...,\n",
       "         [ 1.0933, -0.7741, -0.1789,  ...,  0.2260,  0.6766,  0.1971],\n",
       "         [-0.3510,  0.8482,  0.6945,  ...,  0.3624,  0.2226,  1.2152],\n",
       "         [-0.9116, -0.5517,  1.9972,  ..., -0.7783,  1.4103, -0.7878]],\n",
       "\n",
       "        [[-2.6396,  2.3772, -0.3354,  ...,  1.4915,  2.4224,  2.4508],\n",
       "         [ 0.0118,  0.8667,  0.4948,  ..., -1.0640,  0.3702, -1.0209],\n",
       "         [-1.4208, -0.6164,  1.2664,  ...,  0.1258,  0.6534,  0.6582],\n",
       "         ...,\n",
       "         [ 1.0933, -0.7741, -0.1789,  ...,  0.2260,  0.6766,  0.1971],\n",
       "         [-0.3510,  0.8482,  0.6945,  ...,  0.3624,  0.2226,  1.2152],\n",
       "         [-0.9116, -0.5517,  1.9972,  ..., -0.7783,  1.4103, -0.7878]]],\n",
       "       device='cuda:0')"
      ]
     },
     "execution_count": 13,
     "metadata": {},
     "output_type": "execute_result"
    }
   ],
   "source": [
    "batch = torch.zeros([32,296,1280]).to('cuda')\n",
    "result = batch + tensor_to_add.unsqueeze(0)\n"
   ]
  },
  {
   "cell_type": "code",
   "execution_count": 15,
   "metadata": {},
   "outputs": [],
   "source": [
    "mask = first_element == 0.0"
   ]
  },
  {
   "cell_type": "code",
   "execution_count": 17,
   "metadata": {},
   "outputs": [
    {
     "data": {
      "text/plain": [
       "tensor([[False, False, False,  ..., False, False, False],\n",
       "        [False, False, False,  ..., False, False, False],\n",
       "        [False, False, False,  ..., False, False, False],\n",
       "        ...,\n",
       "        [ True,  True,  True,  ...,  True,  True,  True],\n",
       "        [ True,  True,  True,  ...,  True,  True,  True],\n",
       "        [ True,  True,  True,  ...,  True,  True,  True]], device='cuda:0')"
      ]
     },
     "execution_count": 17,
     "metadata": {},
     "output_type": "execute_result"
    }
   ],
   "source": [
    "mask[0,:,:]"
   ]
  },
  {
   "cell_type": "code",
   "execution_count": null,
   "metadata": {},
   "outputs": [],
   "source": []
  }
 ],
 "metadata": {
  "kernelspec": {
   "display_name": "struct_diff",
   "language": "python",
   "name": "python3"
  },
  "language_info": {
   "codemirror_mode": {
    "name": "ipython",
    "version": 3
   },
   "file_extension": ".py",
   "mimetype": "text/x-python",
   "name": "python",
   "nbconvert_exporter": "python",
   "pygments_lexer": "ipython3",
   "version": "3.12.3"
  }
 },
 "nbformat": 4,
 "nbformat_minor": 2
}
